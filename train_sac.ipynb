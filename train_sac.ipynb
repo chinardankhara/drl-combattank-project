{
 "cells": [
  {
   "cell_type": "code",
   "execution_count": null,
   "metadata": {},
   "outputs": [],
   "source": [
    "import torch\n",
    "import numpy as np\n",
    "from loguru import logger\n",
    "from pettingzoo.atari import combat_tank_v2\n",
    "from src.utils import save_episode_as_gif\n",
    "from src.agent_sac import AgentSAC\n",
    "\n",
    "import warnings\n",
    "warnings.filterwarnings(\"ignore\")\n",
    "torch.set_default_dtype(torch.float32)\n",
    "SEED = 42"
   ]
  },
  {
   "cell_type": "code",
   "execution_count": null,
   "metadata": {},
   "outputs": [],
   "source": [
    "# Instantiate the environment\n",
    "env = combat_tank_v2.env(render_mode=\"rgb_array\", has_maze=False)\n",
    "env.reset(seed=SEED)\n",
    "\n",
    "# Get observation dimensions\n",
    "observation = env.last()[0]\n",
    "H, W, C = observation.shape\n",
    "action_dim = env.action_space(\"first_0\").n\n",
    "\n",
    "print(f\"Input channels: {C}\\nAction space: {action_dim}\")"
   ]
  },
  {
   "cell_type": "code",
   "execution_count": null,
   "metadata": {},
   "outputs": [],
   "source": [
    "# Hyperparameters\n",
    "state_dimension: int = 16\n",
    "num_actions: int = action_dim\n",
    "EPOCHS: int = 2000\n",
    "HIDDEN_DIMENSION: int = 16\n",
    "LEARNING_RATE: float = 3e-4  # Slightly lower learning rate for SAC\n",
    "DISCOUNT_FACTOR: float = 0.99\n",
    "EPISODES: int = 3_000\n",
    "ALPHA: float = 0.2  # Temperature parameter\n",
    "TAU: float = 0.005  # Soft update rate\n",
    "BATCH_SIZE: int = 256\n",
    "BUFFER_SIZE: int = 1_000_000\n",
    "\n",
    "# Initialize SAC agents\n",
    "player_one = AgentSAC(\n",
    "    name='first_0',\n",
    "    state_dimension=state_dimension,\n",
    "    action_dim=num_actions,\n",
    "    hidden_dimension=HIDDEN_DIMENSION,\n",
    "    learning_rate=LEARNING_RATE,\n",
    "    obs_dim=(C, H, W),\n",
    "    alpha=ALPHA,\n",
    "    gamma=DISCOUNT_FACTOR,\n",
    "    tau=TAU,\n",
    "    buffer_size=BUFFER_SIZE,\n",
    "    batch_size=BATCH_SIZE\n",
    ")\n",
    "\n",
    "player_two = AgentSAC(\n",
    "    name='second_0',\n",
    "    state_dimension=state_dimension,\n",
    "    action_dim=num_actions,\n",
    "    hidden_dimension=HIDDEN_DIMENSION,\n",
    "    learning_rate=LEARNING_RATE,\n",
    "    obs_dim=(C, H, W),\n",
    "    alpha=ALPHA,\n",
    "    gamma=DISCOUNT_FACTOR,\n",
    "    tau=TAU,\n",
    "    buffer_size=BUFFER_SIZE,\n",
    "    batch_size=BATCH_SIZE\n",
    ")"
   ]
  },
  {
   "cell_type": "code",
   "execution_count": null,
   "metadata": {},
   "outputs": [],
   "source": [
    "# Training loop\n",
    "all_players = [player_one, player_two]\n",
    "agents_map = dict(zip(env.agents, all_players))\n",
    "agent_scores = {k: 0 for k in env.agents}\n",
    "\n",
    "for epoch in range(EPOCHS):\n",
    "    # Run one episode\n",
    "    env.reset()\n",
    "    for step, agent_name in enumerate(env.agent_iter()):\n",
    "        agent = agents_map[agent_name]\n",
    "        try:\n",
    "            win = agent.take_action(env)\n",
    "        except:\n",
    "            break\n",
    "            \n",
    "        if win or step > 2*EPISODES:\n",
    "            agent_scores[agent_name] += int(win)\n",
    "            winner = agent_name\n",
    "            break\n",
    "    \n",
    "    # Optimize both agents\n",
    "    logger.info(f'Epoch: {epoch+1:4}/{EPOCHS} \\t| Winner: {winner:10} \\t| Steps: {step}')\n",
    "    for player in all_players:\n",
    "        critic_loss, reward = player.optimize()\n",
    "        \n",
    "        logger.debug(\n",
    "            f\"Player: {player.name} \\t| \"\n",
    "            f\"Buffer Size: {len(player.replay_buffer)} \\t| \"\n",
    "            f\"Loss: {critic_loss:.5f} \\t| \"\n",
    "            f\"Reward: {reward:.3f}\"\n",
    "        )\n",
    "        player.save()\n",
    "    \n",
    "    # Save episode visualization\n",
    "    if (epoch+1) % 50 == 0:\n",
    "        save_episode_as_gif(\n",
    "            env, \n",
    "            agents_map, \n",
    "            save_path=f\"episodes/sac_epoch_{epoch+1}.gif\",\n",
    "            fps=60\n",
    "        )"
   ]
  },
  {
   "cell_type": "code",
   "execution_count": null,
   "metadata": {},
   "outputs": [],
   "source": [
    "# Display final scores\n",
    "print(\"\\nFinal Scores:\")\n",
    "for agent_name, score in agent_scores.items():\n",
    "    print(f\"{agent_name}: {score}\")"
   ]
  },
  {
   "cell_type": "code",
   "execution_count": null,
   "metadata": {},
   "outputs": [],
   "source": []
  }
 ],
 "metadata": {
  "kernelspec": {
   "display_name": "combat_tank_rl",
   "language": "python",
   "name": "python3"
  },
  "language_info": {
   "codemirror_mode": {
    "name": "ipython",
    "version": 3
   },
   "file_extension": ".py",
   "mimetype": "text/x-python",
   "name": "python",
   "nbconvert_exporter": "python",
   "pygments_lexer": "ipython3",
   "version": "3.10.15"
  }
 },
 "nbformat": 4,
 "nbformat_minor": 2
}
