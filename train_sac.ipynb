{
 "cells": [
  {
   "cell_type": "code",
   "execution_count": 1,
   "metadata": {},
   "outputs": [
    {
     "name": "stderr",
     "output_type": "stream",
     "text": [
      "\u001b[32m2024-12-01 15:02:50.561\u001b[0m | \u001b[1mINFO    \u001b[0m | \u001b[36msrc.utils\u001b[0m:\u001b[36mdevice\u001b[0m:\u001b[36m66\u001b[0m - \u001b[1mUsing cpu device.\u001b[0m\n"
     ]
    }
   ],
   "source": [
    "import torch\n",
    "import numpy as np\n",
    "from loguru import logger\n",
    "from pettingzoo.atari import combat_tank_v2\n",
    "from src.utils import save_episode_as_gif\n",
    "from src.agent_sac import AgentSAC\n",
    "\n",
    "import warnings\n",
    "warnings.filterwarnings(\"ignore\")\n",
    "torch.set_default_dtype(torch.float32)\n",
    "SEED = 42"
   ]
  },
  {
   "cell_type": "code",
   "execution_count": 2,
   "metadata": {},
   "outputs": [
    {
     "name": "stdout",
     "output_type": "stream",
     "text": [
      "Input channels: 3\n",
      "Action space: 18\n"
     ]
    }
   ],
   "source": [
    "# Instantiate the environment\n",
    "env = combat_tank_v2.env(render_mode=\"rgb_array\", has_maze=False)\n",
    "env.reset(seed=SEED)\n",
    "\n",
    "# Get observation dimensions\n",
    "observation = env.last()[0]\n",
    "H, W, C = observation.shape\n",
    "action_dim = env.action_space(\"first_0\").n\n",
    "\n",
    "print(f\"Input channels: {C}\\nAction space: {action_dim}\")"
   ]
  },
  {
   "cell_type": "code",
   "execution_count": 3,
   "metadata": {},
   "outputs": [],
   "source": [
    "# Hyperparameters\n",
    "state_dimension: int = 16\n",
    "num_actions: int = action_dim\n",
    "EPOCHS: int = 2000\n",
    "HIDDEN_DIMENSION: int = 16\n",
    "LEARNING_RATE: float = 3e-4  # Slightly lower learning rate for SAC\n",
    "DISCOUNT_FACTOR: float = 0.99\n",
    "EPISODES: int = 3_000\n",
    "ALPHA: float = 0.2  # Temperature parameter\n",
    "TAU: float = 0.005  # Soft update rate\n",
    "BATCH_SIZE: int = 256\n",
    "BUFFER_SIZE: int = 1_000_000\n",
    "\n",
    "# Initialize SAC agents\n",
    "player_one = AgentSAC(\n",
    "    name='first_0',\n",
    "    state_dimension=state_dimension,\n",
    "    action_dim=num_actions,\n",
    "    hidden_dimension=HIDDEN_DIMENSION,\n",
    "    learning_rate=LEARNING_RATE,\n",
    "    obs_dim=(C, H, W),\n",
    "    alpha=ALPHA,\n",
    "    gamma=DISCOUNT_FACTOR,\n",
    "    tau=TAU,\n",
    "    buffer_size=BUFFER_SIZE,\n",
    "    batch_size=BATCH_SIZE\n",
    ")\n",
    "\n",
    "player_two = AgentSAC(\n",
    "    name='second_0',\n",
    "    state_dimension=state_dimension,\n",
    "    action_dim=num_actions,\n",
    "    hidden_dimension=HIDDEN_DIMENSION,\n",
    "    learning_rate=LEARNING_RATE,\n",
    "    obs_dim=(C, H, W),\n",
    "    alpha=ALPHA,\n",
    "    gamma=DISCOUNT_FACTOR,\n",
    "    tau=TAU,\n",
    "    buffer_size=BUFFER_SIZE,\n",
    "    batch_size=BATCH_SIZE\n",
    ")"
   ]
  },
  {
   "cell_type": "code",
   "execution_count": null,
   "metadata": {},
   "outputs": [
    {
     "ename": "AssertionError",
     "evalue": "action is not in action space",
     "output_type": "error",
     "traceback": [
      "\u001b[0;31m---------------------------------------------------------------------------\u001b[0m",
      "\u001b[0;31mAssertionError\u001b[0m                            Traceback (most recent call last)",
      "Cell \u001b[0;32mIn[4], line 11\u001b[0m\n\u001b[1;32m      9\u001b[0m \u001b[38;5;28;01mfor\u001b[39;00m step, agent_name \u001b[38;5;129;01min\u001b[39;00m \u001b[38;5;28menumerate\u001b[39m(env\u001b[38;5;241m.\u001b[39magent_iter()):\n\u001b[1;32m     10\u001b[0m     agent \u001b[38;5;241m=\u001b[39m agents_map[agent_name]\n\u001b[0;32m---> 11\u001b[0m     win \u001b[38;5;241m=\u001b[39m \u001b[43magent\u001b[49m\u001b[38;5;241;43m.\u001b[39;49m\u001b[43mtake_action\u001b[49m\u001b[43m(\u001b[49m\u001b[43menv\u001b[49m\u001b[43m)\u001b[49m\n\u001b[1;32m     12\u001b[0m     \u001b[38;5;66;03m# try:\u001b[39;00m\n\u001b[1;32m     13\u001b[0m     \u001b[38;5;66;03m#     win = agent.take_action(env)\u001b[39;00m\n\u001b[1;32m     14\u001b[0m     \u001b[38;5;66;03m# except:\u001b[39;00m\n\u001b[1;32m     15\u001b[0m     \u001b[38;5;66;03m#     break\u001b[39;00m\n\u001b[1;32m     17\u001b[0m     \u001b[38;5;28;01mif\u001b[39;00m win \u001b[38;5;129;01mor\u001b[39;00m step \u001b[38;5;241m>\u001b[39m \u001b[38;5;241m2\u001b[39m\u001b[38;5;241m*\u001b[39mEPISODES:\n",
      "File \u001b[0;32m~/Documents/Work_Related/CS 8803 DRL/drl-combattank-project/src/agent_sac.py:69\u001b[0m, in \u001b[0;36mAgentSAC.take_action\u001b[0;34m(self, env, training)\u001b[0m\n\u001b[1;32m     66\u001b[0m observation \u001b[38;5;241m=\u001b[39m env\u001b[38;5;241m.\u001b[39mlast()[\u001b[38;5;241m0\u001b[39m]\n\u001b[1;32m     67\u001b[0m action, log_prob \u001b[38;5;241m=\u001b[39m \u001b[38;5;28mself\u001b[39m\u001b[38;5;241m.\u001b[39mpolicy\u001b[38;5;241m.\u001b[39msample(observation)\n\u001b[0;32m---> 69\u001b[0m \u001b[43menv\u001b[49m\u001b[38;5;241;43m.\u001b[39;49m\u001b[43mstep\u001b[49m\u001b[43m(\u001b[49m\u001b[43maction\u001b[49m\u001b[38;5;241;43m.\u001b[39;49m\u001b[43mdetach\u001b[49m\u001b[43m(\u001b[49m\u001b[43m)\u001b[49m\u001b[38;5;241;43m.\u001b[39;49m\u001b[43mcpu\u001b[49m\u001b[43m(\u001b[49m\u001b[43m)\u001b[49m\u001b[38;5;241;43m.\u001b[39;49m\u001b[43mnumpy\u001b[49m\u001b[43m(\u001b[49m\u001b[43m)\u001b[49m\u001b[43m)\u001b[49m\n\u001b[1;32m     70\u001b[0m next_observation \u001b[38;5;241m=\u001b[39m env\u001b[38;5;241m.\u001b[39mlast()[\u001b[38;5;241m0\u001b[39m]\n\u001b[1;32m     71\u001b[0m reward \u001b[38;5;241m=\u001b[39m env\u001b[38;5;241m.\u001b[39mlast()[\u001b[38;5;241m1\u001b[39m]\n",
      "File \u001b[0;32m~/miniconda3/lib/python3.10/site-packages/pettingzoo/utils/wrappers/order_enforcing.py:96\u001b[0m, in \u001b[0;36mOrderEnforcingWrapper.step\u001b[0;34m(self, action)\u001b[0m\n\u001b[1;32m     94\u001b[0m \u001b[38;5;28;01melse\u001b[39;00m:\n\u001b[1;32m     95\u001b[0m     \u001b[38;5;28mself\u001b[39m\u001b[38;5;241m.\u001b[39m_has_updated \u001b[38;5;241m=\u001b[39m \u001b[38;5;28;01mTrue\u001b[39;00m\n\u001b[0;32m---> 96\u001b[0m     \u001b[38;5;28;43msuper\u001b[39;49m\u001b[43m(\u001b[49m\u001b[43m)\u001b[49m\u001b[38;5;241;43m.\u001b[39;49m\u001b[43mstep\u001b[49m\u001b[43m(\u001b[49m\u001b[43maction\u001b[49m\u001b[43m)\u001b[49m\n",
      "File \u001b[0;32m~/miniconda3/lib/python3.10/site-packages/pettingzoo/utils/wrappers/base.py:47\u001b[0m, in \u001b[0;36mBaseWrapper.step\u001b[0;34m(self, action)\u001b[0m\n\u001b[1;32m     46\u001b[0m \u001b[38;5;28;01mdef\u001b[39;00m \u001b[38;5;21mstep\u001b[39m(\u001b[38;5;28mself\u001b[39m, action: ActionType) \u001b[38;5;241m-\u001b[39m\u001b[38;5;241m>\u001b[39m \u001b[38;5;28;01mNone\u001b[39;00m:\n\u001b[0;32m---> 47\u001b[0m     \u001b[38;5;28;43mself\u001b[39;49m\u001b[38;5;241;43m.\u001b[39;49m\u001b[43menv\u001b[49m\u001b[38;5;241;43m.\u001b[39;49m\u001b[43mstep\u001b[49m\u001b[43m(\u001b[49m\u001b[43maction\u001b[49m\u001b[43m)\u001b[49m\n",
      "File \u001b[0;32m~/miniconda3/lib/python3.10/site-packages/pettingzoo/utils/wrappers/assert_out_of_bounds.py:17\u001b[0m, in \u001b[0;36mAssertOutOfBoundsWrapper.step\u001b[0;34m(self, action)\u001b[0m\n\u001b[1;32m     16\u001b[0m \u001b[38;5;28;01mdef\u001b[39;00m \u001b[38;5;21mstep\u001b[39m(\u001b[38;5;28mself\u001b[39m, action: ActionType) \u001b[38;5;241m-\u001b[39m\u001b[38;5;241m>\u001b[39m \u001b[38;5;28;01mNone\u001b[39;00m:\n\u001b[0;32m---> 17\u001b[0m     \u001b[38;5;28;01massert\u001b[39;00m (\n\u001b[1;32m     18\u001b[0m         action \u001b[38;5;129;01mis\u001b[39;00m \u001b[38;5;28;01mNone\u001b[39;00m\n\u001b[1;32m     19\u001b[0m         \u001b[38;5;129;01mand\u001b[39;00m (\n\u001b[1;32m     20\u001b[0m             \u001b[38;5;28mself\u001b[39m\u001b[38;5;241m.\u001b[39mterminations[\u001b[38;5;28mself\u001b[39m\u001b[38;5;241m.\u001b[39magent_selection]\n\u001b[1;32m     21\u001b[0m             \u001b[38;5;129;01mor\u001b[39;00m \u001b[38;5;28mself\u001b[39m\u001b[38;5;241m.\u001b[39mtruncations[\u001b[38;5;28mself\u001b[39m\u001b[38;5;241m.\u001b[39magent_selection]\n\u001b[1;32m     22\u001b[0m         )\n\u001b[1;32m     23\u001b[0m     ) \u001b[38;5;129;01mor\u001b[39;00m \u001b[38;5;28mself\u001b[39m\u001b[38;5;241m.\u001b[39maction_space(\u001b[38;5;28mself\u001b[39m\u001b[38;5;241m.\u001b[39magent_selection)\u001b[38;5;241m.\u001b[39mcontains(\n\u001b[1;32m     24\u001b[0m         action\n\u001b[1;32m     25\u001b[0m     ), \u001b[38;5;124m\"\u001b[39m\u001b[38;5;124maction is not in action space\u001b[39m\u001b[38;5;124m\"\u001b[39m\n\u001b[1;32m     26\u001b[0m     \u001b[38;5;28msuper\u001b[39m()\u001b[38;5;241m.\u001b[39mstep(action)\n",
      "\u001b[0;31mAssertionError\u001b[0m: action is not in action space"
     ]
    }
   ],
   "source": [
    "# Training loop\n",
    "all_players = [player_one, player_two]\n",
    "agents_map = dict(zip(env.agents, all_players))\n",
    "agent_scores = {k: 0 for k in env.agents}\n",
    "\n",
    "for epoch in range(EPOCHS):\n",
    "    # Run one episode\n",
    "    env.reset()\n",
    "    for step, agent_name in enumerate(env.agent_iter()):\n",
    "        agent = agents_map[agent_name]\n",
    "        win = agent.take_action(env)\n",
    "\n",
    "        if win or step > 2*EPISODES:\n",
    "            agent_scores[agent_name] += int(win)\n",
    "            winner = agent_name\n",
    "            break\n",
    "    \n",
    "    # Optimize both agents\n",
    "    logger.info(f'Epoch: {epoch+1:4}/{EPOCHS} \\t| Winner: {winner:10} \\t| Steps: {step}')\n",
    "    for player in all_players:\n",
    "        critic_loss, reward = player.optimize()\n",
    "        \n",
    "        logger.debug(\n",
    "            f\"Player: {player.name} \\t| \"\n",
    "            f\"Buffer Size: {len(player.replay_buffer)} \\t| \"\n",
    "            f\"Loss: {critic_loss:.5f} \\t| \"\n",
    "            f\"Reward: {reward:.3f}\"\n",
    "        )\n",
    "        player.save()\n",
    "    \n",
    "    # Save episode visualization\n",
    "    if (epoch+1) % 50 == 0:\n",
    "        save_episode_as_gif(\n",
    "            env, \n",
    "            agents_map, \n",
    "            save_path=f\"episodes/sac_epoch_{epoch+1}.gif\",\n",
    "            fps=60\n",
    "        )"
   ]
  },
  {
   "cell_type": "code",
   "execution_count": null,
   "metadata": {},
   "outputs": [],
   "source": [
    "# Display final scores\n",
    "print(\"\\nFinal Scores:\")\n",
    "for agent_name, score in agent_scores.items():\n",
    "    print(f\"{agent_name}: {score}\")"
   ]
  },
  {
   "cell_type": "code",
   "execution_count": null,
   "metadata": {},
   "outputs": [],
   "source": []
  }
 ],
 "metadata": {
  "kernelspec": {
   "display_name": "base",
   "language": "python",
   "name": "python3"
  },
  "language_info": {
   "codemirror_mode": {
    "name": "ipython",
    "version": 3
   },
   "file_extension": ".py",
   "mimetype": "text/x-python",
   "name": "python",
   "nbconvert_exporter": "python",
   "pygments_lexer": "ipython3",
   "version": "3.10.15"
  }
 },
 "nbformat": 4,
 "nbformat_minor": 2
}
